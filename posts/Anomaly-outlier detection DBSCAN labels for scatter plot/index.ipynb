{
  "cells": [
    {
      "cell_type": "raw",
      "metadata": {},
      "source": [
        "---\n",
        "title: \"Anomaly-outlier detection DBSCAN labels for scatter plot\"\n",
        "author: \"Heba Nusair\"\n",
        "date: \"2023-11-06\"\n",
        "categories: [news, code, analysis]\n",
        "image: \"image.jpg\"\n",
        "---"
      ],
      "id": "b092e981"
    },
    {
      "cell_type": "code",
      "metadata": {},
      "source": [
        "# Assuming you have already standardized your data and have df_geo_scaled ready\n",
        "\n",
        "# Plot the k-distance graph again with a zoomed-in scale if necessary\n",
        "nbrs = NearestNeighbors(n_neighbors=4).fit(df_geo_scaled)\n",
        "distances, indices = nbrs.kneighbors(df_geo_scaled)\n",
        "\n",
        "# Sort the distances and plot them\n",
        "distances = np.sort(distances, axis=0)\n",
        "distances = distances[:, 3-1]\n",
        "plt.figure(figsize=(12, 6))\n",
        "plt.plot(distances)\n",
        "plt.title('k-distance Graph')\n",
        "plt.xlabel('Point index')\n",
        "plt.ylabel('Distance to 3rd nearest neighbor')\n",
        "plt.show()\n",
        "\n",
        "# After identifying a new eps value from the graph, adjust eps and min_samples\n",
        "eps_value = 0.05  # Adjust this value based on your k-distance graph\n",
        "min_samples_value = 20  # Adjust this value based on your dataset\n",
        "\n",
        "# Perform DBSCAN clustering with the new parameters\n",
        "dbscan = DBSCAN(eps=eps_value, min_samples=min_samples_value)\n",
        "clusters = dbscan.fit_predict(df_geo_scaled)\n",
        "\n",
        "# Add cluster labels to the dataframe\n",
        "df['Cluster'] = clusters\n",
        "\n",
        "# Plot the clusters with the new parameters\n",
        "plt.figure(figsize=(10, 6))\n",
        "scatter = plt.scatter(df['X'], df['Y'], c=df['Cluster'], cmap='viridis', marker='o')\n",
        "plt.title('Adjusted DBSCAN Clustering of Homeplaces in Roanoke and Salem Cities')\n",
        "plt.xlabel('Longitude')\n",
        "plt.ylabel('Latitude')\n",
        "plt.colorbar(scatter, label='Cluster Label')\n",
        "plt.show()\n"
      ],
      "id": "3531c78b",
      "execution_count": null,
      "outputs": []
    }
  ],
  "metadata": {
    "kernelspec": {
      "name": "python3",
      "language": "python",
      "display_name": "Python 3 (ipykernel)"
    }
  },
  "nbformat": 4,
  "nbformat_minor": 5
}